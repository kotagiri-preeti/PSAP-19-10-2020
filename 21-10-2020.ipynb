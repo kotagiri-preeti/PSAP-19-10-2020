{
 "cells": [
  {
   "cell_type": "markdown",
   "metadata": {},
   "source": [
    "### Decision making\n",
    "1.\tif\n",
    "2.\telse\n",
    "3. \telif"
   ]
  },
  {
   "cell_type": "code",
   "execution_count": 3,
   "metadata": {},
   "outputs": [
    {
     "name": "stdout",
     "output_type": "stream",
     "text": [
      "Enter a number:11\n"
     ]
    }
   ],
   "source": [
    "#if statement\n",
    "num = int(input(\"Enter a number:\"))\n",
    "if num % 2 == 0:\n",
    "    print(\"The given number is even\")"
   ]
  },
  {
   "cell_type": "code",
   "execution_count": 5,
   "metadata": {},
   "outputs": [
    {
     "name": "stdout",
     "output_type": "stream",
     "text": [
      "Enter a number:11\n",
      "The given number is odd\n"
     ]
    }
   ],
   "source": [
    "#if-else statement\n",
    "num = int(input(\"Enter a number:\"))\n",
    "if num % 2 == 0:\n",
    "    print(\"The given number is even\")\n",
    "else:\n",
    "    print(\"The given number is odd\")"
   ]
  },
  {
   "cell_type": "code",
   "execution_count": 9,
   "metadata": {},
   "outputs": [
    {
     "name": "stdout",
     "output_type": "stream",
     "text": [
      "Enter a number:0\n",
      "Zero\n"
     ]
    }
   ],
   "source": [
    "#Accept a number from the use and check whether it is +ve,-ve or 0\n",
    "n = int(input(\"Enter a number:\"))\n",
    "if n > 0:\n",
    "    print(\"Positive\")\n",
    "elif n < 0:\n",
    "    print(\"Negative\")\n",
    "else:\n",
    "    print(\"Zero\")"
   ]
  },
  {
   "cell_type": "code",
   "execution_count": 3,
   "metadata": {},
   "outputs": [
    {
     "name": "stdout",
     "output_type": "stream",
     "text": [
      "Enter number-1:12\n",
      "Enter number-2:45\n",
      "Enter number-3:78\n",
      "n3 is maximum\n"
     ]
    }
   ],
   "source": [
    "#Accept three numbers from the use and print maximum value on the screen\n",
    "n1 = int(input(\"Enter number-1:\"))\n",
    "n2 = int(input(\"Enter number-2:\"))\n",
    "n3 = int(input(\"Enter number-3:\"))\n",
    "if n1 > n2 and n1 > n3 :\n",
    "    print(\"n1 is maximum\")\n",
    "elif n2 > n3:\n",
    "    print(\"n2 is maximum\")\n",
    "else:\n",
    "    print(\"n3 is maximum\")"
   ]
  },
  {
   "cell_type": "markdown",
   "metadata": {},
   "source": [
    "### Question\n",
    "Accept the age of a person as an input and check whether the candidate is eligible for voting or not?\n",
    "1. eligible --> 18 to 85\n",
    "2. else Not eligible"
   ]
  },
  {
   "cell_type": "code",
   "execution_count": 6,
   "metadata": {},
   "outputs": [
    {
     "name": "stdout",
     "output_type": "stream",
     "text": [
      "enter age:12\n",
      "person is not eligible for voting\n"
     ]
    }
   ],
   "source": [
    "#Solution-1\n",
    "age= int(input(\"enter age:\"))\n",
    "print(\"person is eligible for voting\") if age > 18 and age < 85 else print(\"person is not eligible for voting\")"
   ]
  },
  {
   "cell_type": "code",
   "execution_count": 7,
   "metadata": {},
   "outputs": [
    {
     "name": "stdout",
     "output_type": "stream",
     "text": [
      "enter age45\n",
      "person is eligible for voting\n"
     ]
    }
   ],
   "source": [
    "#Solution-2\n",
    "age= int(input(\"enter age\"))\n",
    "if age > 18 and age < 85:\n",
    "    print(\"person is eligible for voting\")\n",
    "else:\n",
    "    print(\"person is not eligible for voting\")"
   ]
  },
  {
   "cell_type": "markdown",
   "metadata": {},
   "source": [
    "### Loops\n",
    "### While loop"
   ]
  },
  {
   "cell_type": "code",
   "execution_count": 9,
   "metadata": {},
   "outputs": [
    {
     "name": "stdout",
     "output_type": "stream",
     "text": [
      "Good Morning!!\n",
      "Good Morning!!\n",
      "Good Morning!!\n",
      "Good Morning!!\n",
      "Good Morning!!\n"
     ]
    }
   ],
   "source": [
    "#printing Good Mroning on the screen for 5 time without using While loop\n",
    "print(\"Good Morning!!\")\n",
    "print(\"Good Morning!!\")\n",
    "print(\"Good Morning!!\")\n",
    "print(\"Good Morning!!\")\n",
    "print(\"Good Morning!!\")"
   ]
  },
  {
   "cell_type": "code",
   "execution_count": 12,
   "metadata": {},
   "outputs": [
    {
     "name": "stdout",
     "output_type": "stream",
     "text": [
      "Good Morning!!\n",
      "Good Morning!!\n",
      "Good Morning!!\n",
      "Good Morning!!\n",
      "Good Morning!!\n"
     ]
    }
   ],
   "source": [
    "#printing Good Mroning on the screen for 5 time using While loop\n",
    "counter = 0\n",
    "while counter < 5: \n",
    "    print(\"Good Morning!!\")\n",
    "    counter += 1"
   ]
  },
  {
   "cell_type": "code",
   "execution_count": 14,
   "metadata": {},
   "outputs": [
    {
     "name": "stdout",
     "output_type": "stream",
     "text": [
      "Enter a number:5\n",
      "1 2 3 4 5 "
     ]
    }
   ],
   "source": [
    "#print 1 to n numbers on the screen using while loop\n",
    "# n= 5 --> 1 2 3 4 5\n",
    "i = 1\n",
    "n = int(input(\"Enter a number:\"))\n",
    "while i <= n:\n",
    "    print(i,end = \" \")\n",
    "    i += 1"
   ]
  },
  {
   "cell_type": "code",
   "execution_count": 16,
   "metadata": {},
   "outputs": [
    {
     "name": "stdout",
     "output_type": "stream",
     "text": [
      "Enter a number:5\n",
      "15\n"
     ]
    }
   ],
   "source": [
    "#print sum of 1 to n numbers on the screen using while loop\n",
    "# n=5 --> 15 --> n*(n+1)/2\n",
    "i = 1\n",
    "n = int(input(\"Enter a number:\"))\n",
    "s = 0\n",
    "while i <= n:\n",
    "    s += i\n",
    "    i += 1\n",
    "print(s)"
   ]
  },
  {
   "cell_type": "markdown",
   "metadata": {},
   "source": [
    "### for loop\n",
    "#### range(start,stop,step) \n",
    "Default values are\n",
    "1. start = 0\n",
    "2. step = 1"
   ]
  },
  {
   "cell_type": "code",
   "execution_count": 17,
   "metadata": {},
   "outputs": [
    {
     "name": "stdout",
     "output_type": "stream",
     "text": [
      "range(0, 5)\n"
     ]
    }
   ],
   "source": [
    "print(range(5))"
   ]
  },
  {
   "cell_type": "code",
   "execution_count": 18,
   "metadata": {},
   "outputs": [
    {
     "name": "stdout",
     "output_type": "stream",
     "text": [
      "0 1 2 3 4 "
     ]
    }
   ],
   "source": [
    "for i in range(5):\n",
    "    print(i,end=\" \")"
   ]
  },
  {
   "cell_type": "code",
   "execution_count": 20,
   "metadata": {},
   "outputs": [
    {
     "name": "stdout",
     "output_type": "stream",
     "text": [
      "Enter a number:5\n",
      "1 2 3 4 5 "
     ]
    }
   ],
   "source": [
    "#Display 1 to n values on the screen using for loop\n",
    "n = int(input(\"Enter a number:\"))\n",
    "for i in range(1,n+1):\n",
    "    print(i,end=\" \")"
   ]
  },
  {
   "cell_type": "code",
   "execution_count": 21,
   "metadata": {},
   "outputs": [
    {
     "name": "stdout",
     "output_type": "stream",
     "text": [
      "Enter a number:5\n",
      "15\n"
     ]
    }
   ],
   "source": [
    "#Display sum of 1 to n values on the screen using for loop\n",
    "n = int(input(\"Enter a number:\"))\n",
    "s = 0\n",
    "for i in range(1,n+1):\n",
    "    s += i\n",
    "print(s)"
   ]
  },
  {
   "cell_type": "markdown",
   "metadata": {},
   "source": [
    "### Strings\n",
    "1. Use \" \" or ' ' or ''' ''' or \"\"\" \"\"\" for creating a string\n",
    "2. Strings are Immutable"
   ]
  },
  {
   "cell_type": "code",
   "execution_count": 22,
   "metadata": {},
   "outputs": [],
   "source": [
    "s1 = \"python\""
   ]
  },
  {
   "cell_type": "code",
   "execution_count": 23,
   "metadata": {},
   "outputs": [
    {
     "data": {
      "text/plain": [
       "str"
      ]
     },
     "execution_count": 23,
     "metadata": {},
     "output_type": "execute_result"
    }
   ],
   "source": [
    "type(s1)"
   ]
  },
  {
   "cell_type": "code",
   "execution_count": 24,
   "metadata": {},
   "outputs": [],
   "source": [
    "s2 = 'abc123'"
   ]
  },
  {
   "cell_type": "code",
   "execution_count": 25,
   "metadata": {},
   "outputs": [
    {
     "data": {
      "text/plain": [
       "str"
      ]
     },
     "execution_count": 25,
     "metadata": {},
     "output_type": "execute_result"
    }
   ],
   "source": [
    "type(s2)"
   ]
  },
  {
   "cell_type": "markdown",
   "metadata": {},
   "source": [
    "My name is \"Preeti\""
   ]
  },
  {
   "cell_type": "code",
   "execution_count": 26,
   "metadata": {},
   "outputs": [
    {
     "name": "stdout",
     "output_type": "stream",
     "text": [
      "My name is \"Preeti\"\n"
     ]
    }
   ],
   "source": [
    "s = 'My name is \"Preeti\"'\n",
    "print(s)"
   ]
  },
  {
   "cell_type": "code",
   "execution_count": 27,
   "metadata": {},
   "outputs": [
    {
     "data": {
      "text/plain": [
       "'python'"
      ]
     },
     "execution_count": 27,
     "metadata": {},
     "output_type": "execute_result"
    }
   ],
   "source": [
    "s1"
   ]
  },
  {
   "cell_type": "code",
   "execution_count": 31,
   "metadata": {},
   "outputs": [
    {
     "name": "stdout",
     "output_type": "stream",
     "text": [
      "t\n",
      "t\n",
      "tho\n"
     ]
    }
   ],
   "source": [
    "#slicing\n",
    "print(s1[2])\n",
    "print(s1[-4])\n",
    "print(s1[2:5])"
   ]
  },
  {
   "cell_type": "code",
   "execution_count": 32,
   "metadata": {},
   "outputs": [
    {
     "ename": "TypeError",
     "evalue": "'str' object does not support item assignment",
     "output_type": "error",
     "traceback": [
      "\u001b[1;31m---------------------------------------------------------------------------\u001b[0m",
      "\u001b[1;31mTypeError\u001b[0m                                 Traceback (most recent call last)",
      "\u001b[1;32m<ipython-input-32-55aa0fa646e9>\u001b[0m in \u001b[0;36m<module>\u001b[1;34m\u001b[0m\n\u001b[0;32m      1\u001b[0m \u001b[1;31m#Immutable\u001b[0m\u001b[1;33m\u001b[0m\u001b[1;33m\u001b[0m\u001b[1;33m\u001b[0m\u001b[0m\n\u001b[1;32m----> 2\u001b[1;33m \u001b[0ms1\u001b[0m\u001b[1;33m[\u001b[0m\u001b[1;36m2\u001b[0m\u001b[1;33m]\u001b[0m \u001b[1;33m=\u001b[0m \u001b[1;34m'z'\u001b[0m\u001b[1;33m\u001b[0m\u001b[1;33m\u001b[0m\u001b[0m\n\u001b[0m\u001b[0;32m      3\u001b[0m \u001b[0mprint\u001b[0m\u001b[1;33m(\u001b[0m\u001b[0ms1\u001b[0m\u001b[1;33m)\u001b[0m\u001b[1;33m\u001b[0m\u001b[1;33m\u001b[0m\u001b[0m\n",
      "\u001b[1;31mTypeError\u001b[0m: 'str' object does not support item assignment"
     ]
    }
   ],
   "source": [
    "#Strings are Immutable\n",
    "s1[2] = 'z'\n",
    "print(s1)"
   ]
  },
  {
   "cell_type": "markdown",
   "metadata": {},
   "source": [
    "### String Special Operators"
   ]
  },
  {
   "cell_type": "code",
   "execution_count": 33,
   "metadata": {},
   "outputs": [],
   "source": [
    "s1 = \"abc\"\n",
    "s2 = \"xyz\""
   ]
  },
  {
   "cell_type": "code",
   "execution_count": 34,
   "metadata": {},
   "outputs": [
    {
     "name": "stdout",
     "output_type": "stream",
     "text": [
      "abcxyz\n"
     ]
    }
   ],
   "source": [
    "# + --> concatenation\n",
    "print(s1 + s2)"
   ]
  },
  {
   "cell_type": "code",
   "execution_count": 35,
   "metadata": {},
   "outputs": [
    {
     "name": "stdout",
     "output_type": "stream",
     "text": [
      "abcabcabc\n"
     ]
    }
   ],
   "source": [
    "# * --> Repetition operator\n",
    "print(s1 * 3)"
   ]
  },
  {
   "cell_type": "code",
   "execution_count": 36,
   "metadata": {},
   "outputs": [
    {
     "name": "stdout",
     "output_type": "stream",
     "text": [
      "c\n",
      "bc\n",
      "abc\n"
     ]
    }
   ],
   "source": [
    "# []-->slice ,[:] --> slice range\n",
    "print(s1[2])\n",
    "print(s1[1:])\n",
    "print(s1[::])"
   ]
  },
  {
   "cell_type": "code",
   "execution_count": 38,
   "metadata": {},
   "outputs": [
    {
     "name": "stdout",
     "output_type": "stream",
     "text": [
      "pto sapormiglnug\n"
     ]
    }
   ],
   "source": [
    "s3 = \"python is a programming language\"\n",
    "print(s3[::2])"
   ]
  },
  {
   "cell_type": "code",
   "execution_count": 39,
   "metadata": {},
   "outputs": [
    {
     "name": "stdout",
     "output_type": "stream",
     "text": [
      "Original string is: abc\n",
      "Reversed sting is: cba\n"
     ]
    }
   ],
   "source": [
    "print(\"Original string is:\",s1)\n",
    "print(\"Reversed sting is:\",s1[::-1])"
   ]
  },
  {
   "cell_type": "code",
   "execution_count": 40,
   "metadata": {},
   "outputs": [
    {
     "name": "stdout",
     "output_type": "stream",
     "text": [
      "Enter a string:madam\n",
      "Palindrome\n"
     ]
    }
   ],
   "source": [
    "#Accept a string from the user and check whether the given palindrome or not\n",
    "#input : madam ,output : Palindrome\n",
    "string = input(\"Enter a string:\")\n",
    "if string == string[::-1]:\n",
    "    print(\"Palindrome\")\n",
    "else:\n",
    "    print(\"Not palindrome\")"
   ]
  },
  {
   "cell_type": "code",
   "execution_count": 42,
   "metadata": {},
   "outputs": [
    {
     "name": "stdout",
     "output_type": "stream",
     "text": [
      "Enter a number:123\n",
      "Not palidrome\n"
     ]
    }
   ],
   "source": [
    "#Accept a number from the user and check whether it is palindrome or not\n",
    "#Solution-1\n",
    "n = int(input(\"Enter a number:\"))\n",
    "rev = 0\n",
    "temp = n\n",
    "while n > 0:\n",
    "    rev = (rev * 10) + (n % 10)\n",
    "    n = n//10  \n",
    "if temp == rev:\n",
    "    print(\"palindrome\")\n",
    "else:\n",
    "    print(\"Not palidrome\")"
   ]
  },
  {
   "cell_type": "code",
   "execution_count": 44,
   "metadata": {},
   "outputs": [
    {
     "name": "stdout",
     "output_type": "stream",
     "text": [
      "Enter a number:124\n",
      "Not palindrome\n"
     ]
    }
   ],
   "source": [
    "#Solution-2\n",
    "n = int(input(\"Enter a number:\"))\n",
    "if str(n) == str(n)[::-1]:\n",
    "    print(\"palindrome\")\n",
    "else:\n",
    "    print(\"Not palindrome\")"
   ]
  },
  {
   "cell_type": "code",
   "execution_count": 45,
   "metadata": {},
   "outputs": [
    {
     "name": "stdout",
     "output_type": "stream",
     "text": [
      "Enter a number:125\n",
      "Not palindrome\n"
     ]
    }
   ],
   "source": [
    "#Solution-3\n",
    "n = int(input(\"Enter a number:\"))\n",
    "print(\"palindrome\") if str(n) == str(n)[::-1] else print(\"Not palindrome\")"
   ]
  },
  {
   "cell_type": "code",
   "execution_count": 48,
   "metadata": {},
   "outputs": [
    {
     "name": "stdout",
     "output_type": "stream",
     "text": [
      "False\n",
      "True\n",
      "True\n"
     ]
    }
   ],
   "source": [
    "#Membership operators : in,not in\n",
    "string = \"Python\"\n",
    "print('z' in string)\n",
    "print(\"tho\" in string)\n",
    "print('z' not in string)"
   ]
  },
  {
   "cell_type": "markdown",
   "metadata": {},
   "source": [
    "### String Built-in Functions:\n",
    "1. len() --> Returns no.of characters in a string\n",
    "2. min() --> Returns character with minimum ASCII value\n",
    "3. max() --> Returns character with maximum ASCII value\n",
    "4. str() --> Converts any other data type to string"
   ]
  },
  {
   "cell_type": "code",
   "execution_count": 60,
   "metadata": {},
   "outputs": [
    {
     "data": {
      "text/plain": [
       "65"
      ]
     },
     "execution_count": 60,
     "metadata": {},
     "output_type": "execute_result"
    }
   ],
   "source": [
    "#ord() --> returns corresponding character ASCII value\n",
    "ord('A')"
   ]
  },
  {
   "cell_type": "code",
   "execution_count": 59,
   "metadata": {},
   "outputs": [
    {
     "data": {
      "text/plain": [
       "'A'"
      ]
     },
     "execution_count": 59,
     "metadata": {},
     "output_type": "execute_result"
    }
   ],
   "source": [
    "#chr() --> returns ASCII corresponding character\n",
    "chr(65)"
   ]
  },
  {
   "cell_type": "code",
   "execution_count": 56,
   "metadata": {},
   "outputs": [
    {
     "name": "stdout",
     "output_type": "stream",
     "text": [
      "18\n",
      "  1 A\n",
      "y c c\n"
     ]
    }
   ],
   "source": [
    "s = \"Python Programming\"\n",
    "s1 = \"abc123\"#97 98 99 49 50 51\n",
    "s2 = \"abcABC\"#97 98 99 65 66 67\n",
    "print(len(s))\n",
    "print(min(s),min(s1),min(s2))\n",
    "print(max(s),max(s1),max(s2))"
   ]
  },
  {
   "cell_type": "code",
   "execution_count": 58,
   "metadata": {},
   "outputs": [
    {
     "name": "stdout",
     "output_type": "stream",
     "text": [
      "<class 'int'>\n",
      "<class 'str'>\n"
     ]
    }
   ],
   "source": [
    "num = 12\n",
    "print(type(num))\n",
    "num = str(num)\n",
    "print(type(num))"
   ]
  },
  {
   "cell_type": "code",
   "execution_count": null,
   "metadata": {},
   "outputs": [],
   "source": []
  }
 ],
 "metadata": {
  "kernelspec": {
   "display_name": "Python 3",
   "language": "python",
   "name": "python3"
  },
  "language_info": {
   "codemirror_mode": {
    "name": "ipython",
    "version": 3
   },
   "file_extension": ".py",
   "mimetype": "text/x-python",
   "name": "python",
   "nbconvert_exporter": "python",
   "pygments_lexer": "ipython3",
   "version": "3.7.3"
  }
 },
 "nbformat": 4,
 "nbformat_minor": 2
}
