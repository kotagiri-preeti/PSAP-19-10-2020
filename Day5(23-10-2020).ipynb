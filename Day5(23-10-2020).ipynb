{
 "cells": [
  {
   "cell_type": "markdown",
   "metadata": {},
   "source": [
    "### Dictionary\n",
    "1. Use {} to create a dictionary\n",
    "2. key,value pair in known as Entry\n",
    "3. Dictionary is Mutable\n",
    "\n",
    "### Rules for keys\n",
    "1. Keys should be immutable --> str,Numeric,tuple\n",
    "2. keys should be unique --> duplicate then user lose some data."
   ]
  },
  {
   "cell_type": "code",
   "execution_count": 2,
   "metadata": {},
   "outputs": [
    {
     "name": "stdout",
     "output_type": "stream",
     "text": [
      "<class 'list'> <class 'tuple'>\n"
     ]
    }
   ],
   "source": [
    "#empty list,tuple\n",
    "list1 = []\n",
    "tup1 = ()\n",
    "print(type(list1),type(tup1))"
   ]
  },
  {
   "cell_type": "code",
   "execution_count": 4,
   "metadata": {},
   "outputs": [
    {
     "name": "stdout",
     "output_type": "stream",
     "text": [
      "<class 'set'> <class 'dict'>\n"
     ]
    }
   ],
   "source": [
    "#empty set,dictionary\n",
    "set1 = set()\n",
    "dict1 = {}\n",
    "print(type(set1),type(dict1))"
   ]
  },
  {
   "cell_type": "code",
   "execution_count": 5,
   "metadata": {},
   "outputs": [],
   "source": [
    "dict1 = {\"name\":\"preeti\",\"emp id\":123,\"address\":\"Hyd\"}"
   ]
  },
  {
   "cell_type": "code",
   "execution_count": 6,
   "metadata": {},
   "outputs": [
    {
     "name": "stdout",
     "output_type": "stream",
     "text": [
      "<class 'dict'>\n"
     ]
    }
   ],
   "source": [
    "print(type(dict1))"
   ]
  },
  {
   "cell_type": "code",
   "execution_count": 7,
   "metadata": {},
   "outputs": [
    {
     "ename": "TypeError",
     "evalue": "unhashable type: 'list'",
     "output_type": "error",
     "traceback": [
      "\u001b[1;31m---------------------------------------------------------------------------\u001b[0m",
      "\u001b[1;31mTypeError\u001b[0m                                 Traceback (most recent call last)",
      "\u001b[1;32m<ipython-input-7-03f286df4b88>\u001b[0m in \u001b[0;36m<module>\u001b[1;34m\u001b[0m\n\u001b[1;32m----> 1\u001b[1;33m \u001b[0mdict2\u001b[0m \u001b[1;33m=\u001b[0m \u001b[1;33m{\u001b[0m\u001b[1;33m[\u001b[0m\u001b[1;36m1\u001b[0m\u001b[1;33m,\u001b[0m\u001b[1;36m2\u001b[0m\u001b[1;33m,\u001b[0m\u001b[1;36m3\u001b[0m\u001b[1;33m]\u001b[0m\u001b[1;33m:\u001b[0m\u001b[1;34m\"list1\"\u001b[0m\u001b[1;33m}\u001b[0m\u001b[1;33m\u001b[0m\u001b[1;33m\u001b[0m\u001b[0m\n\u001b[0m",
      "\u001b[1;31mTypeError\u001b[0m: unhashable type: 'list'"
     ]
    }
   ],
   "source": [
    "#Mutable object as key is not allowed\n",
    "dict2 = {[1,2,3]:\"list1\"} "
   ]
  },
  {
   "cell_type": "code",
   "execution_count": 8,
   "metadata": {},
   "outputs": [],
   "source": [
    "#When duplicate keys are available in a dictionary\n",
    "dict3 = {\"name\":\"preeti\",\"emp id\":123,\"address\":\"Hyd\",\"name\":\"Mounika\"}"
   ]
  },
  {
   "cell_type": "code",
   "execution_count": 9,
   "metadata": {},
   "outputs": [
    {
     "data": {
      "text/plain": [
       "{'name': 'Mounika', 'emp id': 123, 'address': 'Hyd'}"
      ]
     },
     "execution_count": 9,
     "metadata": {},
     "output_type": "execute_result"
    }
   ],
   "source": [
    "dict3"
   ]
  },
  {
   "cell_type": "markdown",
   "metadata": {},
   "source": [
    "### Accessing values in dictionary:"
   ]
  },
  {
   "cell_type": "code",
   "execution_count": 10,
   "metadata": {},
   "outputs": [
    {
     "name": "stdout",
     "output_type": "stream",
     "text": [
      "Emp name: preeti Emp is: 123 and from: Hyd\n"
     ]
    }
   ],
   "source": [
    "dict1 = {\"name\":\"preeti\",\"emp id\":123,\"address\":\"Hyd\"}\n",
    "print(\"Emp name:\",dict1[\"name\"],\"Emp is:\",dict1[\"emp id\"],\"and from:\",/\n",
    "      dict1[\"address\"])"
   ]
  },
  {
   "cell_type": "markdown",
   "metadata": {},
   "source": [
    "### Updating dictionary:\n"
   ]
  },
  {
   "cell_type": "code",
   "execution_count": 11,
   "metadata": {},
   "outputs": [
    {
     "name": "stdout",
     "output_type": "stream",
     "text": [
      "{'name': 'preeti', 'emp id': 123, 'address': 'Adb'}\n"
     ]
    }
   ],
   "source": [
    "dict1 = {\"name\":\"preeti\",\"emp id\":123,\"address\":\"Hyd\"}\n",
    "dict1[\"address\"] = \"Adb\"\n",
    "print(dict1)"
   ]
  },
  {
   "cell_type": "markdown",
   "metadata": {},
   "source": [
    "### Delete dictionary elements:"
   ]
  },
  {
   "cell_type": "code",
   "execution_count": 12,
   "metadata": {},
   "outputs": [
    {
     "name": "stdout",
     "output_type": "stream",
     "text": [
      "{'name': 'preeti', 'emp id': 123}\n"
     ]
    }
   ],
   "source": [
    "dict1 = {\"name\":\"preeti\",\"emp id\":123,\"address\":\"Hyd\"}\n",
    "del dict1[\"address\"]\n",
    "print(dict1)"
   ]
  },
  {
   "cell_type": "markdown",
   "metadata": {},
   "source": [
    "### Built-in dictionary methods:"
   ]
  },
  {
   "cell_type": "code",
   "execution_count": 13,
   "metadata": {},
   "outputs": [
    {
     "name": "stdout",
     "output_type": "stream",
     "text": [
      "dict_keys(['name', 'emp id', 'address'])\n",
      "dict_values(['preeti', 123, 'Hyd'])\n",
      "dict_items([('name', 'preeti'), ('emp id', 123), ('address', 'Hyd')])\n"
     ]
    }
   ],
   "source": [
    "#key(),values() and items()\n",
    "dict1 = {\"name\":\"preeti\",\"emp id\":123,\"address\":\"Hyd\"}\n",
    "print(dict1.keys())\n",
    "print(dict1.values())\n",
    "print(dict1.items())"
   ]
  },
  {
   "cell_type": "code",
   "execution_count": 14,
   "metadata": {},
   "outputs": [
    {
     "data": {
      "text/plain": [
       "'preeti'"
      ]
     },
     "execution_count": 14,
     "metadata": {},
     "output_type": "execute_result"
    }
   ],
   "source": [
    "#Extracting key corresponding value using statement\n",
    "dict1[\"name\"]"
   ]
  },
  {
   "cell_type": "code",
   "execution_count": 15,
   "metadata": {},
   "outputs": [
    {
     "data": {
      "text/plain": [
       "'preeti'"
      ]
     },
     "execution_count": 15,
     "metadata": {},
     "output_type": "execute_result"
    }
   ],
   "source": [
    "#Extracting key corresponding value using method get()\n",
    "dict1.get(\"name\")"
   ]
  },
  {
   "cell_type": "code",
   "execution_count": 16,
   "metadata": {},
   "outputs": [
    {
     "name": "stdout",
     "output_type": "stream",
     "text": [
      "{'name': 'preeti', 'emp id': 123}\n"
     ]
    }
   ],
   "source": [
    "#pop()\n",
    "dict1 = {\"name\":\"preeti\",\"emp id\":123,\"address\":\"Hyd\"}\n",
    "dict1.pop(\"address\")\n",
    "print(dict1)"
   ]
  },
  {
   "cell_type": "code",
   "execution_count": 17,
   "metadata": {},
   "outputs": [
    {
     "data": {
      "text/plain": [
       "('address', 'Hyd')"
      ]
     },
     "execution_count": 17,
     "metadata": {},
     "output_type": "execute_result"
    }
   ],
   "source": [
    "#popitem()\n",
    "dict1 = {\"name\":\"preeti\",\"emp id\":123,\"address\":\"Hyd\"}\n",
    "dict1.popitem()"
   ]
  },
  {
   "cell_type": "code",
   "execution_count": 18,
   "metadata": {},
   "outputs": [
    {
     "data": {
      "text/plain": [
       "{'name': 'preeti', 'emp id': 123}"
      ]
     },
     "execution_count": 18,
     "metadata": {},
     "output_type": "execute_result"
    }
   ],
   "source": [
    "dict1"
   ]
  },
  {
   "cell_type": "markdown",
   "metadata": {},
   "source": [
    "### Adding a new entry "
   ]
  },
  {
   "cell_type": "code",
   "execution_count": 19,
   "metadata": {},
   "outputs": [
    {
     "name": "stdout",
     "output_type": "stream",
     "text": [
      "{'name': 'preeti', 'emp id': 123, 'address': 'Hyd', 'course': 'Python'}\n"
     ]
    }
   ],
   "source": [
    "#statement(Direct assignment)\n",
    "dict1 = {\"name\":\"preeti\",\"emp id\":123,\"address\":\"Hyd\"}\n",
    "dict1[\"course\"] = \"Python\"\n",
    "print(dict1)"
   ]
  },
  {
   "cell_type": "code",
   "execution_count": 20,
   "metadata": {},
   "outputs": [
    {
     "data": {
      "text/plain": [
       "{'name': 'preeti', 'emp id': 123, 'address': 'Hyd', 'course': 'Python'}"
      ]
     },
     "execution_count": 20,
     "metadata": {},
     "output_type": "execute_result"
    }
   ],
   "source": [
    "#setdefault()\n",
    "dict1 = {\"name\":\"preeti\",\"emp id\":123,\"address\":\"Hyd\"}\n",
    "dict1.setdefault(\"course\",\"Python\")\n",
    "dict1"
   ]
  },
  {
   "cell_type": "code",
   "execution_count": 21,
   "metadata": {},
   "outputs": [
    {
     "name": "stdout",
     "output_type": "stream",
     "text": [
      "{1: 'one', 2: 'two'} {3: 'Three', 4: 'Four'}\n"
     ]
    }
   ],
   "source": [
    "dict1 = {1:\"one\",2:\"two\"}\n",
    "dict2 = {3:\"Three\",4:\"Four\"}\n",
    "print(dict1,dict2)"
   ]
  },
  {
   "cell_type": "code",
   "execution_count": 22,
   "metadata": {},
   "outputs": [
    {
     "name": "stdout",
     "output_type": "stream",
     "text": [
      "{1: 'one', 2: 'two', 3: 'Three', 4: 'Four'} {3: 'Three', 4: 'Four'}\n"
     ]
    }
   ],
   "source": [
    "#update()\n",
    "dict1.update(dict2)\n",
    "print(dict1,dict2)"
   ]
  },
  {
   "cell_type": "code",
   "execution_count": 23,
   "metadata": {},
   "outputs": [
    {
     "name": "stdout",
     "output_type": "stream",
     "text": [
      "{1: 'one', 2: 'two'} {3: 'Three', 4: 'Four'}\n"
     ]
    }
   ],
   "source": [
    "dict1 = {1:\"one\",2:\"two\"}\n",
    "dict2 = {3:\"Three\",4:\"Four\"}\n",
    "print(dict1,dict2)"
   ]
  },
  {
   "cell_type": "markdown",
   "metadata": {},
   "source": [
    "### Functions"
   ]
  },
  {
   "cell_type": "code",
   "execution_count": 26,
   "metadata": {},
   "outputs": [],
   "source": [
    "#Function definition\n",
    "def display():\n",
    "    '''This funcion is for wishing'''\n",
    "    print(\"Good Morning!!\")"
   ]
  },
  {
   "cell_type": "code",
   "execution_count": 27,
   "metadata": {},
   "outputs": [
    {
     "name": "stdout",
     "output_type": "stream",
     "text": [
      "Good Morning!!\n"
     ]
    }
   ],
   "source": [
    "#Function calling\n",
    "display()"
   ]
  },
  {
   "cell_type": "markdown",
   "metadata": {},
   "source": [
    "### Actual and Formal Parameters/Arguments"
   ]
  },
  {
   "cell_type": "code",
   "execution_count": 33,
   "metadata": {},
   "outputs": [
    {
     "name": "stdout",
     "output_type": "stream",
     "text": [
      "Good Morning preeti!!\n"
     ]
    }
   ],
   "source": [
    "#Function definition\n",
    "def display(name):#name --> Formal parameter\n",
    "    '''This funcion is for wishing'''\n",
    "    print(\"Good Morning {}!!\".format(name))\n",
    "#function calling\n",
    "display(\"preeti\")#\"preeti\" --> actual parameters"
   ]
  },
  {
   "cell_type": "code",
   "execution_count": 34,
   "metadata": {},
   "outputs": [
    {
     "name": "stdout",
     "output_type": "stream",
     "text": [
      "Enter a value:10\n",
      "Enter another value:20\n",
      "30\n"
     ]
    }
   ],
   "source": [
    "#Accepting values from the user\n",
    "def addition(a,b):\n",
    "    print(a + b)\n",
    "x = int(input(\"Enter a value:\"))\n",
    "y = int(input(\"Enter another value:\"))\n",
    "addition(x,y)"
   ]
  },
  {
   "cell_type": "code",
   "execution_count": 35,
   "metadata": {},
   "outputs": [
    {
     "name": "stdout",
     "output_type": "stream",
     "text": [
      "Enter a value:10\n",
      "Enter another value:20\n",
      "30\n"
     ]
    }
   ],
   "source": [
    "#Accepting values from the user without creating variables\n",
    "def addition(a,b):\n",
    "    print(a + b)\n",
    "addition(int(input(\"Enter a value:\")),int(input(\"Enter another value:\")))"
   ]
  },
  {
   "cell_type": "code",
   "execution_count": 30,
   "metadata": {},
   "outputs": [
    {
     "data": {
      "text/plain": [
       "'This funcion is for wishing'"
      ]
     },
     "execution_count": 30,
     "metadata": {},
     "output_type": "execute_result"
    }
   ],
   "source": [
    "#For extacting doc string of the function\n",
    "display.__doc__"
   ]
  },
  {
   "cell_type": "markdown",
   "metadata": {},
   "source": [
    "### Local or Global variables"
   ]
  },
  {
   "cell_type": "code",
   "execution_count": 40,
   "metadata": {},
   "outputs": [
    {
     "name": "stdout",
     "output_type": "stream",
     "text": [
      "@v@\n",
      "j@v@\n",
      "ajendar\n"
     ]
    }
   ],
   "source": [
    "student_name = \"rajendar\"#Global variable\n",
    "def display(name):#name variable\n",
    "    name = name.replace('a','@')\n",
    "    return name\n",
    "    \n",
    "print(display(\"java\"))\n",
    "print(student_name[1:])\n",
    "print(name[1:])"
   ]
  },
  {
   "cell_type": "markdown",
   "metadata": {},
   "source": [
    "### Call by value and reference"
   ]
  },
  {
   "cell_type": "code",
   "execution_count": 43,
   "metadata": {},
   "outputs": [
    {
     "name": "stdout",
     "output_type": "stream",
     "text": [
      "Before calling the function: java\n",
      "Inside the function: j@v@\n",
      "After calling the function: java\n"
     ]
    }
   ],
   "source": [
    "#pass by value --> Immutable\n",
    "def display(name):\n",
    "    name = name.replace('a','@')\n",
    "    return name\n",
    "name = \"java\"\n",
    "print(\"Before calling the function:\",name)\n",
    "print(\"Inside the function:\",display(name))\n",
    "print(\"After calling the function:\",name)"
   ]
  },
  {
   "cell_type": "code",
   "execution_count": 44,
   "metadata": {},
   "outputs": [
    {
     "name": "stdout",
     "output_type": "stream",
     "text": [
      "Before calling the function: [10, 20, 30]\n",
      "Inside the function: [10, 20, 30, 40, 50]\n",
      "After calling the function: [10, 20, 30, 40, 50]\n"
     ]
    }
   ],
   "source": [
    "#pass by reference --> Mutable\n",
    "def display(list1):\n",
    "    list1.append(40)\n",
    "    list1.append(50)\n",
    "    return list1\n",
    "\n",
    "list1 = [10,20,30]\n",
    "print(\"Before calling the function:\",list1)\n",
    "print(\"Inside the function:\",display(list1))\n",
    "print(\"After calling the function:\",list1)"
   ]
  },
  {
   "cell_type": "markdown",
   "metadata": {},
   "source": [
    "### return statement\n",
    "1. function with arg and with return type\n",
    "2. function with arg and without return type\n",
    "3. function without arg and with return type\n",
    "4. function without arg and without return type"
   ]
  },
  {
   "cell_type": "code",
   "execution_count": 45,
   "metadata": {},
   "outputs": [
    {
     "name": "stdout",
     "output_type": "stream",
     "text": [
      "30\n"
     ]
    }
   ],
   "source": [
    "#Function without return statement\n",
    "def addition(a,b):\n",
    "    print(a + b)\n",
    "    \n",
    "addition(10,20)"
   ]
  },
  {
   "cell_type": "code",
   "execution_count": 46,
   "metadata": {},
   "outputs": [
    {
     "data": {
      "text/plain": [
       "30"
      ]
     },
     "execution_count": 46,
     "metadata": {},
     "output_type": "execute_result"
    }
   ],
   "source": [
    "#Function with return statement\n",
    "def addition(a,b):\n",
    "    return (a + b)\n",
    "    \n",
    "addition(10,20)"
   ]
  },
  {
   "cell_type": "code",
   "execution_count": 52,
   "metadata": {},
   "outputs": [
    {
     "name": "stdout",
     "output_type": "stream",
     "text": [
      "addition: 30\n",
      "subtraction: -10\n",
      "multiplication: 200\n",
      "division: 0.5\n"
     ]
    }
   ],
   "source": [
    "#returning multiple values at a time\n",
    "def basic_operation(a,b):\n",
    "    return (a + b,a - b,a * b,a / b)\n",
    "    \n",
    "add,sub,mul,div = basic_operation(10,20)\n",
    "print(\"addition:\",add)\n",
    "print(\"subtraction:\",sub)\n",
    "print(\"multiplication:\",mul)\n",
    "print(\"division:\",div)"
   ]
  },
  {
   "cell_type": "markdown",
   "metadata": {},
   "source": [
    "### Nested functions"
   ]
  },
  {
   "cell_type": "code",
   "execution_count": 54,
   "metadata": {},
   "outputs": [
    {
     "name": "stdout",
     "output_type": "stream",
     "text": [
      "125\n"
     ]
    }
   ],
   "source": [
    "#square() inside cube()\n",
    "def square(x):\n",
    "    return x * x\n",
    "\n",
    "def cube(x):\n",
    "    return square(x) * x\n",
    "\n",
    "print(cube(5))"
   ]
  },
  {
   "cell_type": "markdown",
   "metadata": {},
   "source": [
    "### Recursive functions"
   ]
  },
  {
   "cell_type": "code",
   "execution_count": 57,
   "metadata": {},
   "outputs": [
    {
     "name": "stdout",
     "output_type": "stream",
     "text": [
      "120\n",
      "You cannot find factorial for -ve number\n"
     ]
    }
   ],
   "source": [
    "#Finidng factorial of a number without recursion\n",
    "def factorial(n):\n",
    "    fact = 1\n",
    "    if n < 0:\n",
    "        return \"You cannot find factorial for -ve number\"\n",
    "    elif n == 0:\n",
    "        return 1\n",
    "    else:\n",
    "        for i in range(1,n+1):\n",
    "            fact *= i\n",
    "        return fact \n",
    "print(factorial(5))#120\n",
    "print(factorial(-4))#24"
   ]
  },
  {
   "cell_type": "code",
   "execution_count": 58,
   "metadata": {},
   "outputs": [
    {
     "name": "stdout",
     "output_type": "stream",
     "text": [
      "120\n",
      "24\n"
     ]
    }
   ],
   "source": [
    "#Finidng factorial of a number with recursion\n",
    "def factorial(n):\n",
    "    if n < 0:\n",
    "        return \"You cannot find factorial for -ve number\"\n",
    "    elif n == 0 or n == 1:\n",
    "        return 1\n",
    "    else:\n",
    "        return n * factorial(n-1) \n",
    "print(factorial(5))#120\n",
    "print(factorial(4))#24"
   ]
  },
  {
   "cell_type": "markdown",
   "metadata": {},
   "source": [
    "### Lambda Functions(Anonymous functions)"
   ]
  },
  {
   "cell_type": "code",
   "execution_count": 59,
   "metadata": {},
   "outputs": [
    {
     "data": {
      "text/plain": [
       "30"
      ]
     },
     "execution_count": 59,
     "metadata": {},
     "output_type": "execute_result"
    }
   ],
   "source": [
    "#Traidional way\n",
    "def addition(a,b):\n",
    "    return a+b\n",
    "addition(10,20)"
   ]
  },
  {
   "cell_type": "code",
   "execution_count": 60,
   "metadata": {},
   "outputs": [
    {
     "data": {
      "text/plain": [
       "30"
      ]
     },
     "execution_count": 60,
     "metadata": {},
     "output_type": "execute_result"
    }
   ],
   "source": [
    "#syntax --> lambda arguments : expression\n",
    "(lambda a,b : a+b)(10,20)"
   ]
  },
  {
   "cell_type": "code",
   "execution_count": 61,
   "metadata": {},
   "outputs": [],
   "source": [
    "#creating a function object\n",
    "add = lambda a,b : a+b"
   ]
  },
  {
   "cell_type": "code",
   "execution_count": 63,
   "metadata": {},
   "outputs": [
    {
     "data": {
      "text/plain": [
       "30"
      ]
     },
     "execution_count": 63,
     "metadata": {},
     "output_type": "execute_result"
    }
   ],
   "source": [
    "add(10,20)"
   ]
  },
  {
   "cell_type": "code",
   "execution_count": 64,
   "metadata": {},
   "outputs": [
    {
     "data": {
      "text/plain": [
       "['This', 'is', 'python', 'programming']"
      ]
     },
     "execution_count": 64,
     "metadata": {},
     "output_type": "execute_result"
    }
   ],
   "source": [
    "#string(sentence) --> words\n",
    "def split_string(sentence):\n",
    "    return sentence.split()\n",
    "split_string(\"This is python programming\")"
   ]
  },
  {
   "cell_type": "code",
   "execution_count": 65,
   "metadata": {},
   "outputs": [
    {
     "data": {
      "text/plain": [
       "['This', 'is', 'python', 'programming']"
      ]
     },
     "execution_count": 65,
     "metadata": {},
     "output_type": "execute_result"
    }
   ],
   "source": [
    "(lambda sentence : sentence.split())(\"This is python programming\")"
   ]
  },
  {
   "cell_type": "code",
   "execution_count": null,
   "metadata": {},
   "outputs": [],
   "source": []
  }
 ],
 "metadata": {
  "kernelspec": {
   "display_name": "Python 3",
   "language": "python",
   "name": "python3"
  },
  "language_info": {
   "codemirror_mode": {
    "name": "ipython",
    "version": 3
   },
   "file_extension": ".py",
   "mimetype": "text/x-python",
   "name": "python",
   "nbconvert_exporter": "python",
   "pygments_lexer": "ipython3",
   "version": "3.7.3"
  }
 },
 "nbformat": 4,
 "nbformat_minor": 2
}
