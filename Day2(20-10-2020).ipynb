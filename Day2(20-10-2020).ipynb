{
 "cells": [
  {
   "cell_type": "markdown",
   "metadata": {},
   "source": [
    "### Input Output statements:\n",
    "1. print()\n",
    "2. input()"
   ]
  },
  {
   "cell_type": "code",
   "execution_count": 7,
   "metadata": {},
   "outputs": [
    {
     "name": "stdout",
     "output_type": "stream",
     "text": [
      "Good Morning all\n"
     ]
    }
   ],
   "source": [
    "print(\"Good Morning all\")"
   ]
  },
  {
   "cell_type": "code",
   "execution_count": 8,
   "metadata": {},
   "outputs": [
    {
     "name": "stdout",
     "output_type": "stream",
     "text": [
      "100 200\n"
     ]
    }
   ],
   "source": [
    "num1 = 100\n",
    "num2 = 200\n",
    "print(num1,num2)"
   ]
  },
  {
   "cell_type": "code",
   "execution_count": 9,
   "metadata": {},
   "outputs": [
    {
     "name": "stdout",
     "output_type": "stream",
     "text": [
      "100 200 300 400 500\n"
     ]
    }
   ],
   "source": [
    "#default value for sep is \" \"\n",
    "print(100,200,300,400,500)"
   ]
  },
  {
   "cell_type": "code",
   "execution_count": 16,
   "metadata": {},
   "outputs": [
    {
     "name": "stdout",
     "output_type": "stream",
     "text": [
      "100 @ 200 @ 300 @ 400 @ 500\n"
     ]
    }
   ],
   "source": [
    "#changing sep value ' $ '\n",
    "print(100,200,300,400,500,sep=\" @ \")"
   ]
  },
  {
   "cell_type": "code",
   "execution_count": 15,
   "metadata": {},
   "outputs": [
    {
     "name": "stdout",
     "output_type": "stream",
     "text": [
      "100@200$300@400!500*"
     ]
    }
   ],
   "source": [
    "#changing end value to some other character\n",
    "#By default end value is \"\\n\"\n",
    "print(100,end=\"@\")\n",
    "print(200,end=\"$\")\n",
    "print(300,end=\"@\")\n",
    "print(400,end=\"!\")\n",
    "print(500,end=\"*\")"
   ]
  },
  {
   "cell_type": "code",
   "execution_count": 18,
   "metadata": {},
   "outputs": [
    {
     "name": "stdout",
     "output_type": "stream",
     "text": [
      "Enter num1 value:100\n",
      "Enter num2 value:200\n",
      "300\n",
      "-100\n"
     ]
    }
   ],
   "source": [
    "#input() by default accepts value as string\n",
    "num1 = int(input(\"Enter num1 value:\"))\n",
    "num2 = int(input(\"Enter num2 value:\"))\n",
    "print(num1 + num2)\n",
    "print(num1 - num2)"
   ]
  },
  {
   "cell_type": "markdown",
   "metadata": {},
   "source": [
    "### Question-1\n",
    "```\n",
    "You have the following data.\n",
    "totalMoney = 1000\n",
    "quantity = 3\n",
    "price = 450\n",
    "\n",
    "display above data in this format\n",
    "I have 1000 dollars so I can buy 3 footballs for 450 dollars.\n",
    "```"
   ]
  },
  {
   "cell_type": "code",
   "execution_count": 19,
   "metadata": {},
   "outputs": [],
   "source": [
    "TotalMoney=1000\n",
    "quantity=3\n",
    "price=450"
   ]
  },
  {
   "cell_type": "code",
   "execution_count": 20,
   "metadata": {},
   "outputs": [
    {
     "name": "stdout",
     "output_type": "stream",
     "text": [
      "I have 1000 dollars so I can buy 3 footballs for 450 dollars\n"
     ]
    }
   ],
   "source": [
    "#First way:\n",
    "print(\"I have\",TotalMoney,\"dollars so I can buy\",quantity,\"footballs for\",price,\"dollars\")"
   ]
  },
  {
   "cell_type": "code",
   "execution_count": 21,
   "metadata": {},
   "outputs": [
    {
     "name": "stdout",
     "output_type": "stream",
     "text": [
      "I have 1000 dollars so I can buy 3 footballs for 450 dollars.\n"
     ]
    }
   ],
   "source": [
    "#Second way : format operator(%)\n",
    "print(\"I have %d dollars so I can buy %d footballs for %d dollars.\"%(TotalMoney,quantity,price))"
   ]
  },
  {
   "cell_type": "code",
   "execution_count": 22,
   "metadata": {},
   "outputs": [
    {
     "name": "stdout",
     "output_type": "stream",
     "text": [
      "I have total 1000 dollars so i can buy 3 footballs for 450 dollars\n"
     ]
    }
   ],
   "source": [
    "#Third way:\n",
    "print(f'I have total {TotalMoney} dollars so i can buy {quantity} footballs for {price} dollars')"
   ]
  },
  {
   "cell_type": "code",
   "execution_count": 29,
   "metadata": {},
   "outputs": [
    {
     "name": "stdout",
     "output_type": "stream",
     "text": [
      "I have 1000 dollars so I can buy 3 footballs for 450 dollars\n"
     ]
    }
   ],
   "source": [
    "#Fourth way:\n",
    "print(\"I have {} dollars so I can buy {} footballs for {} dollars\".format(TotalMoney,quantity,price))"
   ]
  },
  {
   "cell_type": "markdown",
   "metadata": {},
   "source": [
    "### Question-2\n",
    "```\n",
    "Display “My Name Is Preeti” as “My**Name**Is**Preeti” \n",
    "```"
   ]
  },
  {
   "cell_type": "code",
   "execution_count": 32,
   "metadata": {},
   "outputs": [
    {
     "name": "stdout",
     "output_type": "stream",
     "text": [
      "My**Name**Is**preethi\n"
     ]
    }
   ],
   "source": [
    "print('My','Name','Is','preethi',sep=\"**\" )"
   ]
  },
  {
   "cell_type": "markdown",
   "metadata": {},
   "source": [
    "### Basic Operators"
   ]
  },
  {
   "cell_type": "code",
   "execution_count": 33,
   "metadata": {},
   "outputs": [
    {
     "data": {
      "text/plain": [
       "30"
      ]
     },
     "execution_count": 33,
     "metadata": {},
     "output_type": "execute_result"
    }
   ],
   "source": [
    "10 + 20#magic methods --> __add__"
   ]
  },
  {
   "cell_type": "code",
   "execution_count": 34,
   "metadata": {},
   "outputs": [
    {
     "data": {
      "text/plain": [
       "10"
      ]
     },
     "execution_count": 34,
     "metadata": {},
     "output_type": "execute_result"
    }
   ],
   "source": [
    "20 - 10 # __sub__()"
   ]
  },
  {
   "cell_type": "code",
   "execution_count": 36,
   "metadata": {},
   "outputs": [
    {
     "data": {
      "text/plain": [
       "'Abcxyz'"
      ]
     },
     "execution_count": 36,
     "metadata": {},
     "output_type": "execute_result"
    }
   ],
   "source": [
    "\"Abc\" + \"xyz\""
   ]
  },
  {
   "cell_type": "code",
   "execution_count": 37,
   "metadata": {},
   "outputs": [
    {
     "ename": "TypeError",
     "evalue": "unsupported operand type(s) for -: 'str' and 'str'",
     "output_type": "error",
     "traceback": [
      "\u001b[1;31m---------------------------------------------------------------------------\u001b[0m",
      "\u001b[1;31mTypeError\u001b[0m                                 Traceback (most recent call last)",
      "\u001b[1;32m<ipython-input-37-47d6377e43a8>\u001b[0m in \u001b[0;36m<module>\u001b[1;34m\u001b[0m\n\u001b[1;32m----> 1\u001b[1;33m \u001b[1;34m\"Abc\"\u001b[0m \u001b[1;33m-\u001b[0m \u001b[1;34m\"xyz\"\u001b[0m\u001b[1;33m\u001b[0m\u001b[1;33m\u001b[0m\u001b[0m\n\u001b[0m",
      "\u001b[1;31mTypeError\u001b[0m: unsupported operand type(s) for -: 'str' and 'str'"
     ]
    }
   ],
   "source": [
    "\"Abc\" - \"xyz\""
   ]
  },
  {
   "cell_type": "code",
   "execution_count": 43,
   "metadata": {},
   "outputs": [
    {
     "name": "stdout",
     "output_type": "stream",
     "text": [
      "29\n",
      "21\n",
      "100\n",
      "6.25\n",
      "1\n",
      "390625\n",
      "6\n"
     ]
    }
   ],
   "source": [
    "#Arithmetic operator : +,-,*,/,%(modulus),**(exponent),//(Floor division)\n",
    "x = 25\n",
    "y = 4\n",
    "print(x + y)\n",
    "print(x - y)\n",
    "print(x * y)\n",
    "print(x / y)\n",
    "print(x % y)\n",
    "print(x ** y)\n"
   ]
  },
  {
   "cell_type": "code",
   "execution_count": 46,
   "metadata": {},
   "outputs": [
    {
     "name": "stdout",
     "output_type": "stream",
     "text": [
      "False\n",
      "False\n",
      "True\n",
      "True\n",
      "False\n",
      "True\n"
     ]
    }
   ],
   "source": [
    "#comparision operator : <,<=,>,>=,==,!=\n",
    "#Return type --> Boolean\n",
    "print(x < y)\n",
    "print(x <= y)\n",
    "print(x > y)\n",
    "print(x >= y)\n",
    "print(x == y)\n",
    "print(x != y)"
   ]
  },
  {
   "cell_type": "code",
   "execution_count": 47,
   "metadata": {},
   "outputs": [
    {
     "name": "stdout",
     "output_type": "stream",
     "text": [
      "Before using assignment operator value of x is: 100\n",
      "After using assignment operator value of x is: 150\n"
     ]
    }
   ],
   "source": [
    "#Assignment operators : +=,-=,*=,/=,%=,**=,//=\n",
    "x = 100\n",
    "print(\"Before using assignment operator value of x is:\",x)\n",
    "x += 50 #x = x + 50\n",
    "print(\"After using assignment operator value of x is:\",x)"
   ]
  },
  {
   "cell_type": "markdown",
   "metadata": {},
   "source": [
    "### Number conversions"
   ]
  },
  {
   "cell_type": "code",
   "execution_count": 48,
   "metadata": {},
   "outputs": [
    {
     "data": {
      "text/plain": [
       "'0b111100'"
      ]
     },
     "execution_count": 48,
     "metadata": {},
     "output_type": "execute_result"
    }
   ],
   "source": [
    "#dec --> binary conversion\n",
    "bin(60)"
   ]
  },
  {
   "cell_type": "code",
   "execution_count": 49,
   "metadata": {},
   "outputs": [
    {
     "data": {
      "text/plain": [
       "'0o31'"
      ]
     },
     "execution_count": 49,
     "metadata": {},
     "output_type": "execute_result"
    }
   ],
   "source": [
    "#dec --> octal conversion\n",
    "oct(25)"
   ]
  },
  {
   "cell_type": "code",
   "execution_count": 50,
   "metadata": {},
   "outputs": [
    {
     "data": {
      "text/plain": [
       "'0x2d'"
      ]
     },
     "execution_count": 50,
     "metadata": {},
     "output_type": "execute_result"
    }
   ],
   "source": [
    "#dec --> hex conversion \n",
    "hex(45)"
   ]
  },
  {
   "cell_type": "code",
   "execution_count": 51,
   "metadata": {},
   "outputs": [
    {
     "data": {
      "text/plain": [
       "60"
      ]
     },
     "execution_count": 51,
     "metadata": {},
     "output_type": "execute_result"
    }
   ],
   "source": [
    "#binary --> dec conversion\n",
    "int(0b111100)"
   ]
  },
  {
   "cell_type": "code",
   "execution_count": 52,
   "metadata": {},
   "outputs": [
    {
     "data": {
      "text/plain": [
       "60"
      ]
     },
     "execution_count": 52,
     "metadata": {},
     "output_type": "execute_result"
    }
   ],
   "source": [
    "#binary --> dec conversion\n",
    "int('111100',2)"
   ]
  },
  {
   "cell_type": "code",
   "execution_count": 53,
   "metadata": {},
   "outputs": [
    {
     "data": {
      "text/plain": [
       "25"
      ]
     },
     "execution_count": 53,
     "metadata": {},
     "output_type": "execute_result"
    }
   ],
   "source": [
    "#octal --> dec conversion\n",
    "int('31',8)"
   ]
  },
  {
   "cell_type": "code",
   "execution_count": 79,
   "metadata": {},
   "outputs": [
    {
     "data": {
      "text/plain": [
       "82"
      ]
     },
     "execution_count": 79,
     "metadata": {},
     "output_type": "execute_result"
    }
   ],
   "source": [
    "#hex --> dec conversion\n",
    "int('52',16)"
   ]
  },
  {
   "cell_type": "code",
   "execution_count": 61,
   "metadata": {},
   "outputs": [
    {
     "name": "stdout",
     "output_type": "stream",
     "text": [
      "12\n",
      "61\n",
      "49\n",
      "-61\n",
      "240\n",
      "15\n"
     ]
    }
   ],
   "source": [
    "#Bitwise operators : &,|,^,~,<<,>>\n",
    "a = 60\n",
    "b = 13\n",
    "# a=60🡺 0011  1100\n",
    "# b=13🡺 0000  1101\n",
    "print(a & b)#0000 1100\n",
    "print(a | b)#0011 1101\n",
    "print(a ^ b)#0011 0001\n",
    "print(~a) # -(a)-1 = -60-1 = -61\n",
    "print(a << 2)# 1111 0000\n",
    "print(a >> 2)# 0000 1111"
   ]
  },
  {
   "cell_type": "code",
   "execution_count": 57,
   "metadata": {},
   "outputs": [
    {
     "data": {
      "text/plain": [
       "49"
      ]
     },
     "execution_count": 57,
     "metadata": {},
     "output_type": "execute_result"
    }
   ],
   "source": [
    "int('00110001',2)"
   ]
  },
  {
   "cell_type": "code",
   "execution_count": 63,
   "metadata": {},
   "outputs": [
    {
     "name": "stdout",
     "output_type": "stream",
     "text": [
      "Enter a number15\n",
      "Number is divisible by 3 and 5\n"
     ]
    }
   ],
   "source": [
    "#Logical operators : and,or,not --> return type is boolean\n",
    "#num is divisible by 3 and 5 or not\n",
    "num = int(input(\"Enter a number\"))\n",
    "if num%3 == 0 and num%5 == 0:\n",
    "    print(\"Number is divisible by 3 and 5\")\n",
    "else:\n",
    "    print(\"Number is not divisible by 3 or 5\")"
   ]
  },
  {
   "cell_type": "code",
   "execution_count": 65,
   "metadata": {},
   "outputs": [
    {
     "name": "stdout",
     "output_type": "stream",
     "text": [
      "Enter a number15\n",
      "Number is divisible by 3 or 5\n"
     ]
    }
   ],
   "source": [
    "num = int(input(\"Enter a number\"))\n",
    "if num%3 == 0 or num%5 == 0:\n",
    "    print(\"Number is divisible by 3 or 5\")\n",
    "else:\n",
    "    print(\"Number is not divisible by 3 and 5\")"
   ]
  },
  {
   "cell_type": "code",
   "execution_count": 67,
   "metadata": {},
   "outputs": [
    {
     "data": {
      "text/plain": [
       "False"
      ]
     },
     "execution_count": 67,
     "metadata": {},
     "output_type": "execute_result"
    }
   ],
   "source": [
    "not(10 > 5)"
   ]
  },
  {
   "cell_type": "code",
   "execution_count": 70,
   "metadata": {},
   "outputs": [
    {
     "name": "stdout",
     "output_type": "stream",
     "text": [
      "True\n",
      "False\n",
      "False\n",
      "True\n"
     ]
    }
   ],
   "source": [
    "#Membership operators: in,not in\n",
    "arr = [10,25,45,50,12,36]\n",
    "print(50 in arr)\n",
    "print(100 in arr)\n",
    "print(50 not in arr)\n",
    "print(100 not in arr)"
   ]
  },
  {
   "cell_type": "code",
   "execution_count": 73,
   "metadata": {},
   "outputs": [
    {
     "name": "stdout",
     "output_type": "stream",
     "text": [
      "140735731504224 140735731504544 140735731504224\n",
      "False\n",
      "True\n",
      "True\n",
      "False\n"
     ]
    }
   ],
   "source": [
    "#Identity Operators:is,is not\n",
    "a = 10\n",
    "b = 20\n",
    "c = 10\n",
    "print(id(a),id(b),id(c))\n",
    "print(a is b)\n",
    "print(a is c)\n",
    "print(a is not b)\n",
    "print(a is not c)"
   ]
  },
  {
   "cell_type": "code",
   "execution_count": 74,
   "metadata": {},
   "outputs": [
    {
     "name": "stdout",
     "output_type": "stream",
     "text": [
      "a b and c are not pointing to the same obj\n"
     ]
    }
   ],
   "source": [
    "#Combination of identity and logical operators\n",
    "if (a is b) and (a is c):\n",
    "    print(\"a b and c are pointing to the same obj\")\n",
    "else:\n",
    "    print(\"a b and c are not pointing to the same obj\")"
   ]
  },
  {
   "cell_type": "code",
   "execution_count": 75,
   "metadata": {},
   "outputs": [
    {
     "name": "stdout",
     "output_type": "stream",
     "text": [
      "a b are not pointing to the same obj\n"
     ]
    }
   ],
   "source": [
    "#Traditional way\n",
    "#without using Conditional (or) Ternary operators:\n",
    "if (a is b):\n",
    "    print(\"a b are pointing to the same obj\")\n",
    "else:\n",
    "    print(\"a b are not pointing to the same obj\")"
   ]
  },
  {
   "cell_type": "code",
   "execution_count": 76,
   "metadata": {},
   "outputs": [
    {
     "name": "stdout",
     "output_type": "stream",
     "text": [
      "a b are not pointing to the same obj\n"
     ]
    }
   ],
   "source": [
    "#using ternary operator\n",
    "print(\"a b are pointing to the same obj\") if (a is b) else print(\"a b are not pointing to the same obj\") "
   ]
  },
  {
   "cell_type": "markdown",
   "metadata": {},
   "source": [
    "### Finding maximum of two numbers using ternary operator"
   ]
  },
  {
   "cell_type": "code",
   "execution_count": 77,
   "metadata": {},
   "outputs": [
    {
     "name": "stdout",
     "output_type": "stream",
     "text": [
      "Enter num1 value:12\n",
      "Enter num2 value:25\n",
      "num2 is max\n"
     ]
    }
   ],
   "source": [
    "num1 = int(input(\"Enter num1 value:\"))\n",
    "num2 = int(input(\"Enter num2 value:\"))\n",
    "print(\"num1 is max\") if(num1>num2) else print(\"num2 is max\")"
   ]
  },
  {
   "cell_type": "code",
   "execution_count": null,
   "metadata": {},
   "outputs": [],
   "source": []
  }
 ],
 "metadata": {
  "kernelspec": {
   "display_name": "Python 3",
   "language": "python",
   "name": "python3"
  },
  "language_info": {
   "codemirror_mode": {
    "name": "ipython",
    "version": 3
   },
   "file_extension": ".py",
   "mimetype": "text/x-python",
   "name": "python",
   "nbconvert_exporter": "python",
   "pygments_lexer": "ipython3",
   "version": "3.7.3"
  }
 },
 "nbformat": 4,
 "nbformat_minor": 2
}
